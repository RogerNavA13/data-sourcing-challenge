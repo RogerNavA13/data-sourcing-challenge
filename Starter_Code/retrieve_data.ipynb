{
 "cells": [
  {
   "cell_type": "markdown",
   "metadata": {},
   "source": [
    "### Import Required Libraries and Set Up Environment Variables"
   ]
  },
  {
   "cell_type": "code",
   "execution_count": 76,
   "metadata": {},
   "outputs": [],
   "source": [
    "# Dependencies\n",
    "import requests\n",
    "import time\n",
    "from dotenv import load_dotenv\n",
    "import os\n",
    "import pandas as pd\n",
    "import json\n",
    "import os\n",
    "from datetime import datetime\n",
    "## Load the NASA_API_KEY from the env file\n",
    "load_dotenv()\n",
    "NASA_API_KEY = os.getenv('NASA_API_KEY')"
   ]
  },
  {
   "cell_type": "markdown",
   "metadata": {},
   "source": [
    "### CME Data"
   ]
  },
  {
   "cell_type": "code",
   "execution_count": 97,
   "metadata": {},
   "outputs": [],
   "source": [
    "# Set the base URL to NASA's DONKI API:\n",
    "base_url = \"https://api.nasa.gov/DONKI/\"\n",
    "\n",
    "# Set the specifier for CMEs:\n",
    "CME = \"CME\"\n",
    "\n",
    "# Search for CMEs published between a begin and end date\n",
    "startDate = \"2013-05-01\"\n",
    "endDate   = \"2024-05-01\"\n",
    "\n",
    "\n",
    "# Build URL for CME\n",
    "url = f\"{base_url}{CME}?startDate={startDate}&endDate={endDate}&api_key={NASA_API_KEY}\"\n"
   ]
  },
  {
   "cell_type": "code",
   "execution_count": 98,
   "metadata": {},
   "outputs": [
    {
     "data": {
      "text/plain": [
       "<Response [200]>"
      ]
     },
     "execution_count": 98,
     "metadata": {},
     "output_type": "execute_result"
    }
   ],
   "source": [
    "# Make a \"GET\" request for the CME URL and store it in a variable named cme_response\n",
    "cme_response = requests.get(url)\n",
    "cme_response"
   ]
  },
  {
   "cell_type": "code",
   "execution_count": 99,
   "metadata": {},
   "outputs": [],
   "source": [
    "# Convert the response variable to json and store it as a variable named cme_json\n",
    "if cme_response.status_code == 200:\n",
    "    cme_json = cme_response.json()\n",
    "else: \n",
    "    print(\"Error: \", cme_response.status_code)"
   ]
  },
  {
   "cell_type": "code",
   "execution_count": 100,
   "metadata": {
    "scrolled": true
   },
   "outputs": [
    {
     "name": "stdout",
     "output_type": "stream",
     "text": [
      "{\n",
      "    \"activityID\": \"2013-05-01T03:12:00-CME-001\",\n",
      "    \"catalog\": \"M2M_CATALOG\",\n",
      "    \"startTime\": \"2013-05-01T03:12Z\",\n",
      "    \"instruments\": [\n",
      "        {\n",
      "            \"displayName\": \"SOHO: LASCO/C2\"\n",
      "        },\n",
      "        {\n",
      "            \"displayName\": \"SOHO: LASCO/C3\"\n",
      "        },\n",
      "        {\n",
      "            \"displayName\": \"STEREO A: SECCHI/COR2\"\n",
      "        },\n",
      "        {\n",
      "            \"displayName\": \"STEREO B: SECCHI/COR2\"\n",
      "        }\n",
      "    ],\n",
      "    \"sourceLocation\": \"\",\n",
      "    \"activeRegionNum\": null,\n",
      "    \"note\": \"\",\n",
      "    \"submissionTime\": \"2013-08-07T16:54Z\",\n",
      "    \"versionId\": 1,\n",
      "    \"link\": \"https://webtools.ccmc.gsfc.nasa.gov/DONKI/view/CME/2349/-1\",\n",
      "    \"cmeAnalyses\": [\n",
      "        {\n",
      "            \"isMostAccurate\": true,\n",
      "            \"time21_5\": \"2013-05-01T07:07Z\",\n",
      "            \"latitude\": 12.0,\n",
      "            \"longitude\": -120.0,\n",
      "            \"halfAngle\": 36.0,\n",
      "            \"speed\": 860.0,\n",
      "            \"type\": \"C\",\n",
      "            \"featureCode\": \"null\",\n",
      "            \"imageType\": null,\n",
      "            \"measurementTechnique\": \"null\",\n",
      "            \"note\": \"\",\n",
      "            \"levelOfData\": 0,\n",
      "            \"tilt\": null,\n",
      "            \"minorHalfWidth\": null,\n",
      "            \"speedMeasuredAtHeight\": null,\n",
      "            \"submissionTime\": \"2013-08-07T16:54Z\",\n",
      "            \"link\": \"https://webtools.ccmc.gsfc.nasa.gov/DONKI/view/CMEAnalysis/2350/-1\",\n",
      "            \"enlilList\": [\n",
      "                {\n",
      "                    \"modelCompletionTime\": \"2013-05-01T08:32Z\",\n",
      "                    \"au\": 2.0,\n",
      "                    \"estimatedShockArrivalTime\": null,\n",
      "                    \"estimatedDuration\": null,\n",
      "                    \"rmin_re\": null,\n",
      "                    \"kp_18\": null,\n",
      "                    \"kp_90\": null,\n",
      "                    \"kp_135\": null,\n",
      "                    \"kp_180\": null,\n",
      "                    \"isEarthGB\": false,\n",
      "                    \"link\": \"https://webtools.ccmc.gsfc.nasa.gov/DONKI/view/WSA-ENLIL/2348/-1\",\n",
      "                    \"impactList\": [\n",
      "                        {\n",
      "                            \"isGlancingBlow\": false,\n",
      "                            \"location\": \"STEREO B\",\n",
      "                            \"arrivalTime\": \"2013-05-04T06:16Z\"\n",
      "                        }\n",
      "                    ],\n",
      "                    \"cmeIDs\": [\n",
      "                        \"2013-05-01T03:12:00-CME-001\"\n",
      "                    ]\n",
      "                }\n",
      "            ]\n",
      "        }\n",
      "    ],\n",
      "    \"linkedEvents\": [\n",
      "        {\n",
      "            \"activityID\": \"2013-05-04T04:52:00-IPS-001\"\n",
      "        }\n",
      "    ]\n",
      "}\n"
     ]
    }
   ],
   "source": [
    "# Preview the first result in JSON format\n",
    "# Use json.dumps with argument indent=4 to format data\n",
    "print(json.dumps(cme_json[0], indent =4))"
   ]
  },
  {
   "cell_type": "code",
   "execution_count": 101,
   "metadata": {},
   "outputs": [
    {
     "data": {
      "text/html": [
       "<div>\n",
       "<style scoped>\n",
       "    .dataframe tbody tr th:only-of-type {\n",
       "        vertical-align: middle;\n",
       "    }\n",
       "\n",
       "    .dataframe tbody tr th {\n",
       "        vertical-align: top;\n",
       "    }\n",
       "\n",
       "    .dataframe thead th {\n",
       "        text-align: right;\n",
       "    }\n",
       "</style>\n",
       "<table border=\"1\" class=\"dataframe\">\n",
       "  <thead>\n",
       "    <tr style=\"text-align: right;\">\n",
       "      <th></th>\n",
       "      <th>activityID</th>\n",
       "      <th>startTime</th>\n",
       "      <th>linkedEvents</th>\n",
       "    </tr>\n",
       "  </thead>\n",
       "  <tbody>\n",
       "    <tr>\n",
       "      <th>0</th>\n",
       "      <td>2013-05-01T03:12:00-CME-001</td>\n",
       "      <td>2013-05-01T03:12Z</td>\n",
       "      <td>[{'activityID': '2013-05-04T04:52:00-IPS-001'}]</td>\n",
       "    </tr>\n",
       "    <tr>\n",
       "      <th>1</th>\n",
       "      <td>2013-05-02T05:24:00-CME-001</td>\n",
       "      <td>2013-05-02T05:24Z</td>\n",
       "      <td>None</td>\n",
       "    </tr>\n",
       "    <tr>\n",
       "      <th>2</th>\n",
       "      <td>2013-05-02T14:36:00-CME-001</td>\n",
       "      <td>2013-05-02T14:36Z</td>\n",
       "      <td>None</td>\n",
       "    </tr>\n",
       "    <tr>\n",
       "      <th>3</th>\n",
       "      <td>2013-05-03T18:00:00-CME-001</td>\n",
       "      <td>2013-05-03T18:00Z</td>\n",
       "      <td>None</td>\n",
       "    </tr>\n",
       "    <tr>\n",
       "      <th>4</th>\n",
       "      <td>2013-05-03T22:36:00-CME-001</td>\n",
       "      <td>2013-05-03T22:36Z</td>\n",
       "      <td>[{'activityID': '2013-05-07T04:37:00-IPS-001'}]</td>\n",
       "    </tr>\n",
       "    <tr>\n",
       "      <th>...</th>\n",
       "      <td>...</td>\n",
       "      <td>...</td>\n",
       "      <td>...</td>\n",
       "    </tr>\n",
       "    <tr>\n",
       "      <th>5519</th>\n",
       "      <td>2024-05-01T06:36:00-CME-001</td>\n",
       "      <td>2024-05-01T06:36Z</td>\n",
       "      <td>None</td>\n",
       "    </tr>\n",
       "    <tr>\n",
       "      <th>5520</th>\n",
       "      <td>2024-05-01T11:36:00-CME-001</td>\n",
       "      <td>2024-05-01T11:36Z</td>\n",
       "      <td>None</td>\n",
       "    </tr>\n",
       "    <tr>\n",
       "      <th>5521</th>\n",
       "      <td>2024-05-01T12:36:00-CME-001</td>\n",
       "      <td>2024-05-01T12:36Z</td>\n",
       "      <td>None</td>\n",
       "    </tr>\n",
       "    <tr>\n",
       "      <th>5522</th>\n",
       "      <td>2024-05-01T17:36:00-CME-001</td>\n",
       "      <td>2024-05-01T17:36Z</td>\n",
       "      <td>None</td>\n",
       "    </tr>\n",
       "    <tr>\n",
       "      <th>5523</th>\n",
       "      <td>2024-05-01T23:16:00-CME-001</td>\n",
       "      <td>2024-05-01T23:16Z</td>\n",
       "      <td>[{'activityID': '2024-05-01T22:26:00-FLR-001'}]</td>\n",
       "    </tr>\n",
       "  </tbody>\n",
       "</table>\n",
       "<p>5524 rows × 3 columns</p>\n",
       "</div>"
      ],
      "text/plain": [
       "                       activityID          startTime  \\\n",
       "0     2013-05-01T03:12:00-CME-001  2013-05-01T03:12Z   \n",
       "1     2013-05-02T05:24:00-CME-001  2013-05-02T05:24Z   \n",
       "2     2013-05-02T14:36:00-CME-001  2013-05-02T14:36Z   \n",
       "3     2013-05-03T18:00:00-CME-001  2013-05-03T18:00Z   \n",
       "4     2013-05-03T22:36:00-CME-001  2013-05-03T22:36Z   \n",
       "...                           ...                ...   \n",
       "5519  2024-05-01T06:36:00-CME-001  2024-05-01T06:36Z   \n",
       "5520  2024-05-01T11:36:00-CME-001  2024-05-01T11:36Z   \n",
       "5521  2024-05-01T12:36:00-CME-001  2024-05-01T12:36Z   \n",
       "5522  2024-05-01T17:36:00-CME-001  2024-05-01T17:36Z   \n",
       "5523  2024-05-01T23:16:00-CME-001  2024-05-01T23:16Z   \n",
       "\n",
       "                                         linkedEvents  \n",
       "0     [{'activityID': '2013-05-04T04:52:00-IPS-001'}]  \n",
       "1                                                None  \n",
       "2                                                None  \n",
       "3                                                None  \n",
       "4     [{'activityID': '2013-05-07T04:37:00-IPS-001'}]  \n",
       "...                                               ...  \n",
       "5519                                             None  \n",
       "5520                                             None  \n",
       "5521                                             None  \n",
       "5522                                             None  \n",
       "5523  [{'activityID': '2024-05-01T22:26:00-FLR-001'}]  \n",
       "\n",
       "[5524 rows x 3 columns]"
      ]
     },
     "execution_count": 101,
     "metadata": {},
     "output_type": "execute_result"
    }
   ],
   "source": [
    "# Convert cme_json to a Pandas DataFrame \n",
    "cme_df = pd.DataFrame(cme_json)\n",
    "# Keep only the columns: activityID, startTime, linkedEvents\n",
    "cme_df =cme_df[['activityID',  'startTime', 'linkedEvents']]\n",
    "cme_df\n"
   ]
  },
  {
   "cell_type": "code",
   "execution_count": 102,
   "metadata": {},
   "outputs": [],
   "source": [
    "# Notice that the linkedEvents column allows us to identify the corresponding GST\n",
    "# Remove rows with missing 'linkedEvents' since we won't be able to assign these to GSTs\n",
    "cme_df = cme_df.dropna(subset=['linkedEvents'])"
   ]
  },
  {
   "cell_type": "code",
   "execution_count": 103,
   "metadata": {},
   "outputs": [],
   "source": [
    "# Notice that the linkedEvents sometimes contains multiple events per row\n",
    "# Write a nested for loop that iterates first over each row in the cme DataFrame (using the index)\n",
    "# and then iterates over the values in 'linkedEvents' \n",
    "# and adds the elements individually to a list of dictionaries where each row is one element \n",
    "# Initialize an empty list to store the expanded rows\n",
    "expanded_rows = []\n",
    "\n",
    "# Iterate over each index in the DataFrame\n",
    "for i in cme_df.index:\n",
    "    activityID = cme_df.loc[i, 'activityID']\n",
    "    startTime = cme_df.loc[i, 'startTime']\n",
    "    linkedEvents = cme_df.loc[i, 'linkedEvents']\n",
    "\n",
    "# Iterate over each dictionary in the list\n",
    "    for item in linkedEvents: \n",
    "# Append a new dictionary to the expanded_rows list for each dictionary item and corresponding 'activityID' and 'startTime' value\n",
    "        expanded_rows.append({'activityID': activityID, 'startTime': startTime,\\\n",
    "                               'linkedEvents': linkedEvents})\n",
    "# Create a new DataFrame from the expanded rows\n",
    "expanded_df =pd.DataFrame(expanded_rows)"
   ]
  },
  {
   "cell_type": "code",
   "execution_count": 104,
   "metadata": {},
   "outputs": [],
   "source": [
    "# Create a function called extract_activityID_from_dict that takes a dict as input such as in linkedEvents\n",
    "# and verify below that it works as expected using one row from linkedEvents as an example\n",
    "# Be sure to use a try and except block to handle errors\n",
    "def extract_activityID_from_dict(input_dict):\n",
    "    try:\n",
    "        return input_dict['activityID'] \n",
    "    except (ValueError, TypeError) as e:\n",
    "        # Log the error or print it for debugging\n",
    "        return None\n",
    "\n"
   ]
  },
  {
   "cell_type": "code",
   "execution_count": 105,
   "metadata": {},
   "outputs": [
    {
     "name": "stderr",
     "output_type": "stream",
     "text": [
      "C:\\Users\\Busin\\AppData\\Local\\Temp\\ipykernel_8064\\3349463105.py:3: SettingWithCopyWarning: \n",
      "A value is trying to be set on a copy of a slice from a DataFrame.\n",
      "Try using .loc[row_indexer,col_indexer] = value instead\n",
      "\n",
      "See the caveats in the documentation: https://pandas.pydata.org/pandas-docs/stable/user_guide/indexing.html#returning-a-view-versus-a-copy\n",
      "  cme_df['GST_ActivityID'] = cme_df['linkedEvents'].apply(lambda x: extract_activityID_from_dict(x))\n"
     ]
    }
   ],
   "source": [
    "# Apply this function to each row in the 'linkedEvents' column (you can use apply() and a lambda function)\n",
    "# and create a new column called 'GST_ActivityID' using loc indexer:\n",
    "cme_df['GST_ActivityID'] = cme_df['linkedEvents'].apply(lambda x: extract_activityID_from_dict(x))"
   ]
  },
  {
   "cell_type": "code",
   "execution_count": 106,
   "metadata": {},
   "outputs": [],
   "source": [
    "# Remove rows with missing GST_ActivityID, since we can't assign them to GSTs:\n",
    "cme_df = cme_df.dropna(subset=['GST_ActivityID'])"
   ]
  },
  {
   "cell_type": "code",
   "execution_count": 107,
   "metadata": {},
   "outputs": [
    {
     "data": {
      "text/plain": [
       "activityID        object\n",
       "startTime         object\n",
       "linkedEvents      object\n",
       "GST_ActivityID    object\n",
       "dtype: object"
      ]
     },
     "execution_count": 107,
     "metadata": {},
     "output_type": "execute_result"
    }
   ],
   "source": [
    "# print out the datatype of each column in this DataFrame:\n",
    "cme_df.dtypes"
   ]
  },
  {
   "cell_type": "code",
   "execution_count": 108,
   "metadata": {},
   "outputs": [],
   "source": [
    "# Convert the 'GST_ActivityID' column to string format \n",
    "cme_df['GST_ActivityID'] = cme_df['GST_ActivityID'].astype(str)\n",
    "# Convert startTime to datetime format  \n",
    "cme_df['startTime'] = pd.to_datetime(cme_df['startTime'])\n",
    "# Rename startTime to startTime_CME and activityID to cmeID\n",
    "cme_df = cme_df.rename(columns={'startTime': 'startTime_CME', \\\n",
    "                                'activityID': 'cmeID'})\n",
    "# Drop linkedEvents\n",
    "cme_df = cme_df.drop('linkedEvents', axis=1)\n",
    "# Verify that all steps were executed correctly\n"
   ]
  },
  {
   "cell_type": "code",
   "execution_count": 109,
   "metadata": {},
   "outputs": [],
   "source": [
    "# We are only interested in CMEs related to GSTs so keep only rows where the GST_ActivityID column contains 'GST'\n",
    "# use the method 'contains()' from the str library.  \n",
    "cme_df = cme_df[cme_df['GST_ActivityID'].str.contains('GST')]\n"
   ]
  },
  {
   "cell_type": "markdown",
   "metadata": {},
   "source": [
    "### GST Data"
   ]
  },
  {
   "cell_type": "code",
   "execution_count": 110,
   "metadata": {},
   "outputs": [],
   "source": [
    "# Set the base URL to NASA's DONKI API:\n",
    "base_url = \"https://api.nasa.gov/DONKI/\"\n",
    "\n",
    "# Set the specifier for Geomagnetic Storms (GST):\n",
    "GST = \"GST\"\n",
    "\n",
    "# Search for GSTs between a begin and end date\n",
    "startDate = \"2013-05-01\"\n",
    "endDate = \"2024-05-01\"\n",
    "\n",
    "# Build URL for GST\n",
    "gst_url = f\"{base_url}{GST}?start_date={startDate}&end_date={endDate}&api_key={NASA_API_KEY}\"\n"
   ]
  },
  {
   "cell_type": "code",
   "execution_count": 111,
   "metadata": {},
   "outputs": [
    {
     "data": {
      "text/plain": [
       "<Response [200]>"
      ]
     },
     "execution_count": 111,
     "metadata": {},
     "output_type": "execute_result"
    }
   ],
   "source": [
    "# Make a \"GET\" request for the GST URL and store it in a variable named gst_response\n",
    "gst_response = requests.get(gst_url)\n",
    "gst_response\n"
   ]
  },
  {
   "cell_type": "code",
   "execution_count": 112,
   "metadata": {},
   "outputs": [
    {
     "name": "stdout",
     "output_type": "stream",
     "text": [
      "[\n",
      "    {\n",
      "        \"gstID\": \"2024-08-28T00:00:00-GST-001\",\n",
      "        \"startTime\": \"2024-08-28T00:00Z\",\n",
      "        \"allKpIndex\": [\n",
      "            {\n",
      "                \"observedTime\": \"2024-08-28T03:00Z\",\n",
      "                \"kpIndex\": 5.67,\n",
      "                \"source\": \"NOAA\"\n",
      "            }\n",
      "        ],\n",
      "        \"link\": \"https://webtools.ccmc.gsfc.nasa.gov/DONKI/view/GST/33032/-1\",\n",
      "        \"linkedEvents\": [\n",
      "            {\n",
      "                \"activityID\": \"2024-08-23T02:00:00-CME-001\"\n",
      "            },\n",
      "            {\n",
      "                \"activityID\": \"2024-08-27T07:33:00-IPS-001\"\n",
      "            }\n",
      "        ],\n",
      "        \"submissionTime\": \"2024-08-28T03:35Z\",\n",
      "        \"versionId\": 1\n",
      "    },\n",
      "    {\n",
      "        \"gstID\": \"2024-09-12T09:00:00-GST-001\",\n",
      "        \"startTime\": \"2024-09-12T09:00Z\",\n",
      "        \"allKpIndex\": [\n",
      "            {\n",
      "                \"observedTime\": \"2024-09-12T12:00Z\",\n",
      "                \"kpIndex\": 5.67,\n",
      "                \"source\": \"NOAA\"\n",
      "            },\n",
      "            {\n",
      "                \"observedTime\": \"2024-09-12T15:00Z\",\n",
      "                \"kpIndex\": 7.0,\n",
      "                \"source\": \"NOAA\"\n",
      "            },\n",
      "            {\n",
      "                \"observedTime\": \"2024-09-12T18:00Z\",\n",
      "                \"kpIndex\": 6.33,\n",
      "                \"source\": \"NOAA\"\n",
      "            },\n",
      "            {\n",
      "                \"observedTime\": \"2024-09-12T21:00Z\",\n",
      "                \"kpIndex\": 6.67,\n",
      "                \"source\": \"NOAA\"\n",
      "            }\n",
      "        ],\n",
      "        \"link\": \"https://webtools.ccmc.gsfc.nasa.gov/DONKI/view/GST/33346/-1\",\n",
      "        \"linkedEvents\": [\n",
      "            {\n",
      "                \"activityID\": \"2024-09-10T00:23:00-CME-001\"\n",
      "            },\n",
      "            {\n",
      "                \"activityID\": \"2024-09-12T02:53:00-IPS-001\"\n",
      "            },\n",
      "            {\n",
      "                \"activityID\": \"2024-09-12T18:40:00-MPC-001\"\n",
      "            }\n",
      "        ],\n",
      "        \"submissionTime\": \"2024-09-12T12:34Z\",\n",
      "        \"versionId\": 1\n",
      "    },\n",
      "    {\n",
      "        \"gstID\": \"2024-09-13T21:00:00-GST-001\",\n",
      "        \"startTime\": \"2024-09-13T21:00Z\",\n",
      "        \"allKpIndex\": [\n",
      "            {\n",
      "                \"observedTime\": \"2024-09-14T00:00Z\",\n",
      "                \"kpIndex\": 6.0,\n",
      "                \"source\": \"NOAA\"\n",
      "            }\n",
      "        ],\n",
      "        \"link\": \"https://webtools.ccmc.gsfc.nasa.gov/DONKI/view/GST/33413/-1\",\n",
      "        \"linkedEvents\": [\n",
      "            {\n",
      "                \"activityID\": \"2024-09-13T18:05:00-IPS-001\"\n",
      "            }\n",
      "        ],\n",
      "        \"submissionTime\": \"2024-09-14T00:34Z\",\n",
      "        \"versionId\": 1\n",
      "    },\n",
      "    {\n",
      "        \"gstID\": \"2024-09-17T00:00:00-GST-001\",\n",
      "        \"startTime\": \"2024-09-17T00:00Z\",\n",
      "        \"allKpIndex\": [\n",
      "            {\n",
      "                \"observedTime\": \"2024-09-17T03:00Z\",\n",
      "                \"kpIndex\": 7.67,\n",
      "                \"source\": \"NOAA\"\n",
      "            },\n",
      "            {\n",
      "                \"observedTime\": \"2024-09-17T06:00Z\",\n",
      "                \"kpIndex\": 6.67,\n",
      "                \"source\": \"NOAA\"\n",
      "            },\n",
      "            {\n",
      "                \"observedTime\": \"2024-09-17T12:00Z\",\n",
      "                \"kpIndex\": 6.0,\n",
      "                \"source\": \"NOAA\"\n",
      "            },\n",
      "            {\n",
      "                \"observedTime\": \"2024-09-17T15:00Z\",\n",
      "                \"kpIndex\": 5.67,\n",
      "                \"source\": \"NOAA\"\n",
      "            }\n",
      "        ],\n",
      "        \"link\": \"https://webtools.ccmc.gsfc.nasa.gov/DONKI/view/GST/33465/-1\",\n",
      "        \"linkedEvents\": [\n",
      "            {\n",
      "                \"activityID\": \"2024-09-14T15:36:00-CME-001\"\n",
      "            },\n",
      "            {\n",
      "                \"activityID\": \"2024-09-16T22:49:00-IPS-001\"\n",
      "            }\n",
      "        ],\n",
      "        \"submissionTime\": \"2024-09-17T03:35Z\",\n",
      "        \"versionId\": 1\n",
      "    }\n",
      "]\n"
     ]
    }
   ],
   "source": [
    "# Convert the response variable to json and store it as a variable named gst_json\n",
    "gst_json = gst_response.json()\n",
    "# Preview the first result in JSON format\n",
    "# Use json.dumps with argument indent=4 to format data\n",
    "print(json.dumps(gst_json, indent=4))\n"
   ]
  },
  {
   "cell_type": "code",
   "execution_count": 113,
   "metadata": {},
   "outputs": [],
   "source": [
    "# Convert gst_json to a Pandas DataFrame  \n",
    "gst_df = pd.DataFrame(gst_json)\n",
    "# Keep only the columns: gstID, startTime, linkedEvents\n",
    "gst_df = gst_df[['gstID', 'startTime', 'linkedEvents']]\n",
    "\n"
   ]
  },
  {
   "cell_type": "code",
   "execution_count": 114,
   "metadata": {},
   "outputs": [],
   "source": [
    "# Notice that the linkedEvents column allows us to identify the corresponding CME\n",
    "# Remove rows with missing 'linkedEvents' since we won't be able to assign these to CME\n",
    "gst_df = gst_df.dropna(subset=[\"linkedEvents\"])"
   ]
  },
  {
   "cell_type": "code",
   "execution_count": 115,
   "metadata": {},
   "outputs": [],
   "source": [
    "# Notice that the linkedEvents sometimes contains multiple events per row\n",
    "# Use the explode method to ensure that each row is one element. Ensure to reset the index and drop missing values.\n",
    "gst_df = gst_df.explode('linkedEvents')\n"
   ]
  },
  {
   "cell_type": "code",
   "execution_count": 116,
   "metadata": {},
   "outputs": [],
   "source": [
    "# Apply the extract_activityID_from_dict function to each row in the 'linkedEvents' column (you can use apply() and a lambda function)\n",
    "# and create a new column called 'CME_ActivityID' using loc indexer:\n",
    "gst_df[\"CME_ActivityID\"] = gst_df['linkedEvents'].apply(lambda x:\\\n",
    "        extract_activityID_from_dict(x))\n",
    "# Remove rows with missing CME_ActivityID, since we can't assign them to CMEs:\n",
    "gst_df = gst_df.dropna(subset=['CME_ActivityID'])"
   ]
  },
  {
   "cell_type": "code",
   "execution_count": 117,
   "metadata": {},
   "outputs": [
    {
     "data": {
      "text/plain": [
       "gstID                          object\n",
       "startTime_GST     datetime64[ns, UTC]\n",
       "CME_ActivityID                 object\n",
       "dtype: object"
      ]
     },
     "execution_count": 117,
     "metadata": {},
     "output_type": "execute_result"
    }
   ],
   "source": [
    "# Convert the 'CME_ActivityID' column to string format \n",
    "gst_df['CME_ActivityID'] = gst_df['CME_ActivityID'].astype(str)\n",
    "# Convert the 'gstID' column to string format \n",
    "gst_df['gstID'] = gst_df['gstID'].astype(str)\n",
    "# Convert startTime to datetime format  \n",
    "gst_df['startTime'] = pd.to_datetime(gst_df['startTime'])\n",
    "# Rename startTime to startTime_GST \n",
    "gst_df = gst_df.rename(columns={'startTime': 'startTime_GST'})\n",
    "# Drop linkedEvents\n",
    "gst_df = gst_df.drop(columns=['linkedEvents'])\n",
    "# Verify that all steps were executed correctly\n",
    "gst_df.dtypes"
   ]
  },
  {
   "cell_type": "code",
   "execution_count": 118,
   "metadata": {},
   "outputs": [],
   "source": [
    "# We are only interested in GSTs related to CMEs so keep only rows where the CME_ActivityID column contains 'CME'\n",
    "# use the method 'contains()' from the str library.  \n",
    "gst_df = gst_df[gst_df['CME_ActivityID'].str.contains('CME')]"
   ]
  },
  {
   "cell_type": "markdown",
   "metadata": {},
   "source": [
    "### Merge both datatsets"
   ]
  },
  {
   "cell_type": "code",
   "execution_count": 120,
   "metadata": {},
   "outputs": [],
   "source": [
    "# Now merge both datasets using 'gstID' and 'CME_ActivityID' for gst and 'GST_ActivityID' and 'cmeID' for cme. Use the 'left_on' and 'right_on' specifiers.\n",
    "merged_gst_cme = pd.merge(gst_df, cme_df, left_on=['gstID', 'CME_ActivityID'], right_on=['cmeID', 'GST_ActivityID'], how='inner')"
   ]
  },
  {
   "cell_type": "code",
   "execution_count": 121,
   "metadata": {},
   "outputs": [
    {
     "name": "stdout",
     "output_type": "stream",
     "text": [
      "Shape of cme_df: (0, 3)\n",
      "Shape of gst_df: (3, 3)\n",
      "Shape of merged_gst_cme: (0, 6)\n"
     ]
    }
   ],
   "source": [
    "# Verify that the new DataFrame has the same number of rows as cme and gst\n",
    "print('Shape of cme_df:', cme_df.shape)\n",
    "print('Shape of gst_df:', gst_df.shape)\n",
    "print(\"Shape of merged_gst_cme:\", merged_gst_cme.shape)"
   ]
  },
  {
   "cell_type": "markdown",
   "metadata": {},
   "source": [
    "### Computing the time it takes for a CME to cause a GST"
   ]
  },
  {
   "cell_type": "code",
   "execution_count": 124,
   "metadata": {},
   "outputs": [],
   "source": [
    "# Compute the time diff between startTime_GST and startTime_CME by creating a new column called `timeDiff`.\n",
    "merged_gst_cme['startTime_CME'] = merged_gst_cme['startTime_CME']\\\n",
    "    .dt.tz_localize(None)\n",
    "merged_gst_cme['startTime_GST'] = merged_gst_cme['startTime_GST']\\\n",
    "    .dt.tz_localize(None)\n",
    "merged_gst_cme['timeDiff'] = (merged_gst_cme['startTime_CME']\\\n",
    "     - merged_gst_cme['startTime_GST']).apply(lambda x: str(x))"
   ]
  },
  {
   "cell_type": "code",
   "execution_count": 125,
   "metadata": {},
   "outputs": [
    {
     "name": "stdout",
     "output_type": "stream",
     "text": [
      "count      0\n",
      "mean     NaT\n",
      "std      NaT\n",
      "min      NaT\n",
      "25%      NaT\n",
      "50%      NaT\n",
      "75%      NaT\n",
      "max      NaT\n",
      "Name: timeDiff, dtype: object\n"
     ]
    }
   ],
   "source": [
    "# Use describe() to compute the mean and median time \n",
    "# that it takes for a CME to cause a GST. \n",
    "print(merged_gst_cme['timeDiff'].describe())"
   ]
  },
  {
   "cell_type": "markdown",
   "metadata": {},
   "source": [
    "### Exporting data in csv format"
   ]
  },
  {
   "cell_type": "code",
   "execution_count": 126,
   "metadata": {},
   "outputs": [],
   "source": [
    "# Export data to CSV without the index\n",
    "merged_gst_cme.to_csv('output.csv', index=False)"
   ]
  },
  {
   "cell_type": "code",
   "execution_count": null,
   "metadata": {},
   "outputs": [],
   "source": []
  }
 ],
 "metadata": {
  "kernelspec": {
   "display_name": "Python 3 (ipykernel)",
   "language": "python",
   "name": "python3"
  },
  "language_info": {
   "codemirror_mode": {
    "name": "ipython",
    "version": 3
   },
   "file_extension": ".py",
   "mimetype": "text/x-python",
   "name": "python",
   "nbconvert_exporter": "python",
   "pygments_lexer": "ipython3",
   "version": "3.12.4"
  },
  "varInspector": {
   "cols": {
    "lenName": 16,
    "lenType": 16,
    "lenVar": 40
   },
   "kernels_config": {
    "python": {
     "delete_cmd_postfix": "",
     "delete_cmd_prefix": "del ",
     "library": "var_list.py",
     "varRefreshCmd": "print(var_dic_list())"
    },
    "r": {
     "delete_cmd_postfix": ") ",
     "delete_cmd_prefix": "rm(",
     "library": "var_list.r",
     "varRefreshCmd": "cat(var_dic_list()) "
    }
   },
   "types_to_exclude": [
    "module",
    "function",
    "builtin_function_or_method",
    "instance",
    "_Feature"
   ],
   "window_display": false
  }
 },
 "nbformat": 4,
 "nbformat_minor": 4
}
